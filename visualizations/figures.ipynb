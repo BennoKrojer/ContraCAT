{
 "cells": [
  {
   "cell_type": "code",
   "execution_count": 71,
   "metadata": {},
   "outputs": [],
   "source": [
    "from plotnine import *\n",
    "from collections import defaultdict\n",
    "import pandas as pd\n",
    "from pandas.api.types import CategoricalDtype\n",
    "kONE_COL = 2.5\n",
    "kTWO_COL = 5.3"
   ]
  },
  {
   "cell_type": "code",
   "execution_count": 381,
   "metadata": {},
   "outputs": [],
   "source": [
    "datadir = ''\n",
    "def datadir(filename):\n",
    "    return \"%s/data/%s\" % ('', filename)\n",
    "\n",
    "def makeF1(dataset, languages, ha, nudge_y):\n",
    "    dodge_text = position_dodge(width=0.9)\n",
    "    data = []\n",
    "    with open('results.txt') as f:\n",
    "        for line in f:\n",
    "            segments = line.strip().split('\\t')\n",
    "            temp = []\n",
    "            data.append(segments)\n",
    "\n",
    "    \n",
    "    models = ['ContraPro Concat', 'Attacks Concat', 'Baseline']\n",
    "    tasks = ['Non-Augmented']#, 'Augmented']\n",
    "    models = models[::-1]\n",
    "\n",
    "    d = defaultdict(list)\n",
    "    for i in range(len(models)):\n",
    "        for j in range(len(tasks)):\n",
    "            for k in range(len(languages)):\n",
    "                #drop last human one since it's n/a\n",
    "                #val = data[i][j * len(tasks) + k]\n",
    "                val = data[i][j+len(tasks)*k]\n",
    "                #print (\"val\", val, \"val2\", val2)\n",
    "              \n",
    "                \n",
    "                if val != \"NA\":\n",
    "                    d['Models'].append(models[len(models) - i - 1])\n",
    "                    d['Languages'].append(languages[k])\n",
    "                    d['Task'].append(tasks[j])\n",
    "                    temp = float(val)\n",
    "                    d['F1'].append(temp)\n",
    "                    if temp != 0.0:\n",
    "                        d['Label'].append(\"%0.1f\" % temp)\n",
    "                    else:\n",
    "                        d['Label'].append(\"\")\n",
    "\n",
    "    df = pd.DataFrame(data=d)\n",
    "\n",
    "    model_cat = CategoricalDtype(categories=models, ordered=True)\n",
    "    df['Models_Cat'] = df['Models'].astype(str).astype(model_cat)\n",
    "    task_cat = CategoricalDtype(categories=tasks, ordered=True)\n",
    "    df['Task_Cat'] = df['Task'].astype(str).astype(task_cat)\n",
    "    language_cat = CategoricalDtype(categories=languages, ordered=True)\n",
    "    df['Languages_Cat'] = df['Languages'].astype(str).astype(language_cat)\n",
    "#position = 'dodge'\n",
    "    #position=position_stack(vjust=0.5),\n",
    "    p = ggplot(aes(x='Models_Cat', y='F1', fill = 'Models'), data=df) \\\n",
    "        + geom_bar( stat='identity', size=.5, show_legend=True) \\\n",
    "        + facet_wrap(('Languages_Cat'), labeller=labeller(multi_line=False)) \\\n",
    "        + geom_text(aes(label='Label',  vjust=0), ha= ha, size=5, nudge_y = nudge_y,   show_legend=False, va='top')\\\n",
    "        + theme_bw()\\\n",
    "        + theme(legend_text = element_text(size=4), legend_title = element_text(size=6), legend_position = 'bottom', axis_title_y=element_blank(), axis_title_x=element_blank(), panel_spacing_x=.03, panel_spacing_y=.05, axis_text_x=element_blank(), axis_ticks=element_blank()     )\n",
    "    p.save('' + dataset + '.pdf', width=kONE_COL, height=1.5)\n",
    "\n",
    "    #,axis_text_x=element_text(rotation=330, hjust=0)\n",
    "    #fill=\"#20e9ff\", colour=\"#500000\",  \n",
    "#+ coord_flip() \\\n",
    "#,axis_text_x=element_text(rotation=90, hjust=1)    \n",
    "#facet_grid, 'Task_Cat'"
   ]
  },
  {
   "cell_type": "code",
   "execution_count": 382,
   "metadata": {},
   "outputs": [
    {
     "name": "stderr",
     "output_type": "stream",
     "text": [
      "/Users/dpeskov/anaconda3/envs/asr/lib/python3.6/site-packages/plotnine/ggplot.py:729: PlotnineWarning: Saving 2.5 x 1.5 in image.\n",
      "  from_inches(height, units), units), PlotnineWarning)\n",
      "/Users/dpeskov/anaconda3/envs/asr/lib/python3.6/site-packages/plotnine/ggplot.py:730: PlotnineWarning: Filename: F1.pdf\n",
      "  warn('Filename: {}'.format(filename), PlotnineWarning)\n"
     ]
    }
   ],
   "source": [
    "makeF1('F1', ['Append', 'Extend', 'Replace'], 'center', -1)"
   ]
  },
  {
   "cell_type": "code",
   "execution_count": 369,
   "metadata": {},
   "outputs": [],
   "source": [
    "datadir = ''\n",
    "def datadir(filename):\n",
    "    return \"%s/data/%s\" % ('', filename)\n",
    "\n",
    "def makeF2(dataset, languages, ha, nudge_y):\n",
    "    dodge_text = position_dodge(width=0.9)\n",
    "    data = []\n",
    "    with open('results.txt') as f:\n",
    "        for line in f:\n",
    "            segments = line.strip().split('\\t')\n",
    "            temp = []\n",
    "            data.append(segments)\n",
    "\n",
    "    \n",
    "    models = ['ContraPro Concat', 'Attacks Concat']\n",
    "    tasks = ['Non-Augmented', 'Augmented']\n",
    "    models = models[::-1]\n",
    "\n",
    "    d = defaultdict(list)\n",
    "    for i in range(len(models)):\n",
    "        for j in range(len(tasks)):\n",
    "            for k in range(len(languages)):\n",
    "                #drop last human one since it's n/a\n",
    "                #val = data[i][j * len(tasks) + k]\n",
    "                val = data[i][j+len(tasks)*k]\n",
    "                #print (\"val\", val, \"val2\", val2)\n",
    "              \n",
    "                \n",
    "                if val != \"NA\":\n",
    "                    d['Models'].append(models[len(models) - i - 1])\n",
    "                    d['Languages'].append(languages[k])\n",
    "                    d['Task'].append(tasks[j])\n",
    "                    temp = float(val)\n",
    "                    d['F1'].append(temp)\n",
    "                    if temp != 0.0:\n",
    "                        d['Label'].append(\"%0.1f\" % temp)\n",
    "                    else:\n",
    "                        d['Label'].append(\"\")\n",
    "\n",
    "    df = pd.DataFrame(data=d)\n",
    "\n",
    "    model_cat = CategoricalDtype(categories=models, ordered=True)\n",
    "    df['Models_Cat'] = df['Models'].astype(str).astype(model_cat)\n",
    "    task_cat = CategoricalDtype(categories=tasks, ordered=True)\n",
    "    df['Task_Cat'] = df['Task'].astype(str).astype(task_cat)\n",
    "    language_cat = CategoricalDtype(categories=languages, ordered=True)\n",
    "    df['Languages_Cat'] = df['Languages'].astype(str).astype(language_cat)\n",
    "#position = 'dodge'\n",
    "    #position=position_stack(vjust=0.5),\n",
    "    p = ggplot(aes(x='Models_Cat', y='F1', fill = 'Models'), data=df) \\\n",
    "        + geom_bar( stat='identity', size=.5, show_legend=True) \\\n",
    "        + facet_grid(('Task_Cat','Languages_Cat'), labeller=labeller(multi_line=False)) \\\n",
    "        + geom_text(aes(label='Label', size=5), ha= ha, nudge_y = nudge_y,   show_legend=False, va='top')\\\n",
    "        + theme_bw()\\\n",
    "        + theme(legend_text = element_text(size=5), legend_title = element_text(size=7),legend_position = 'bottom', axis_title_y=element_blank(), axis_title_x=element_blank(), panel_spacing_x=.03, panel_spacing_y=.05, axis_text_x=element_blank(), axis_ticks=element_blank())  \n",
    "    p.save('' + dataset + '.pdf', width=kONE_COL, height=2.7)\n",
    "\n",
    "    #,axis_text_x=element_text(rotation=330, hjust=0)\n",
    "    #fill=\"#20e9ff\", colour=\"#500000\",  \n",
    "#+ coord_flip() \\\n",
    "#,axis_text_x=element_text(rotation=90, hjust=1)    \n",
    "#facet_grid, 'Task_Cat'"
   ]
  },
  {
   "cell_type": "code",
   "execution_count": 370,
   "metadata": {},
   "outputs": [
    {
     "name": "stderr",
     "output_type": "stream",
     "text": [
      "/Users/dpeskov/anaconda3/envs/asr/lib/python3.6/site-packages/plotnine/ggplot.py:729: PlotnineWarning: Saving 2.5 x 2.7 in image.\n",
      "  from_inches(height, units), units), PlotnineWarning)\n",
      "/Users/dpeskov/anaconda3/envs/asr/lib/python3.6/site-packages/plotnine/ggplot.py:730: PlotnineWarning: Filename: F2.pdf\n",
      "  warn('Filename: {}'.format(filename), PlotnineWarning)\n"
     ]
    }
   ],
   "source": [
    "makeF2('F2', ['Append', 'Extend', 'Replace'], 'center', -1)"
   ]
  },
  {
   "cell_type": "code",
   "execution_count": 359,
   "metadata": {},
   "outputs": [],
   "source": [
    "def makeF3(dataset, languages, ha, nudge_y):\n",
    "    data = []\n",
    "    with open('results_templates.txt') as f:\n",
    "        for line in f:\n",
    "            segments = line.strip().split('\\t')\n",
    "            temp = []\n",
    "            data.append(segments)\n",
    "\n",
    "    \n",
    "    models = ['Markables', 'Overlap', 'Event', 'Pleonastic', 'World Knowledge', 'Gender']\n",
    "    tasks = ['Baseline', 'Improvement']\n",
    "    models = models[::-1]\n",
    "\n",
    "    d = defaultdict(list)\n",
    "    for i in range(len(models)):\n",
    "        for j in range(len(tasks)):\n",
    "            for k in range(len(languages)):\n",
    "                \n",
    "                val = data[i][j+len(tasks)*k]\n",
    "                \n",
    "                if val != \"NA\":\n",
    "                    d['Models'].append(models[len(models) - i - 1])\n",
    "                    d['Languages'].append(languages[k])\n",
    "                    d['Task'].append(tasks[j])\n",
    "                    temp = float(val)\n",
    "                    d['F1'].append(temp)\n",
    "                    if temp != 0.0:\n",
    "                        d['Label'].append(\"%0.1f\" % temp)\n",
    "                    else:\n",
    "                        d['Label'].append(\"\")\n",
    "\n",
    "    df = pd.DataFrame(data=d)\n",
    "    print(df)\n",
    "\n",
    "    model_cat = CategoricalDtype(categories=models, ordered=True)\n",
    "    df['Models_Cat'] = df['Models'].astype(str).astype(model_cat)\n",
    "    task_cat = CategoricalDtype(categories=tasks, ordered=True)\n",
    "    df['Task_Cat'] = df['Task'].astype(str).astype(task_cat)\n",
    "    language_cat = CategoricalDtype(categories=languages, ordered=True)\n",
    "    df['Languages_Cat'] = df['Languages'].astype(str).astype(language_cat)\n",
    "    \n",
    "    p = ggplot(aes(x='Task_Cat', y='F1', fill='Task'), data=df) \\\n",
    "        + geom_bar(position='dodge2', stat='identity', show_legend=True) \\\n",
    "        + facet_wrap(('Models_Cat'), labeller=labeller(multi_line=False), nrow = 1) \\\n",
    "        + geom_text(aes(label='Label'),size = 3, ha= ha, nudge_y = nudge_y,   show_legend=False, va='top')\\\n",
    "        + theme_bw() \\\n",
    "        + theme(text = element_text(size=2),legend_text = element_text(size=4),title = element_text(size=5), axis_text_y = element_text(size=5),  legend_position = 'bottom', axis_title_y=element_blank(),axis_title_x=element_blank(), panel_spacing_x=.03, panel_spacing_y=.05, axis_text_x=element_blank(), axis_ticks=element_blank())  \n",
    "    p.save('' + dataset + '.pdf', width=kONE_COL, height=1)\n"
   ]
  },
  {
   "cell_type": "code",
   "execution_count": 360,
   "metadata": {},
   "outputs": [
    {
     "name": "stdout",
     "output_type": "stream",
     "text": [
      "             Models Languages         Task     F1  Label\n",
      "0         Markables  Baseline     Baseline   43.7   43.7\n",
      "1         Markables  Baseline  Improvement   71.3   71.3\n",
      "2           Overlap  Baseline     Baseline   47.6   47.6\n",
      "3           Overlap  Baseline  Improvement   51.9   51.9\n",
      "4             Event  Baseline     Baseline   86.2   86.2\n",
      "5             Event  Baseline  Improvement   46.1   46.1\n",
      "6        Pleonastic  Baseline     Baseline  100.0  100.0\n",
      "7        Pleonastic  Baseline  Improvement  100.0  100.0\n",
      "8   World Knowledge  Baseline     Baseline   55.6   55.6\n",
      "9   World Knowledge  Baseline  Improvement   54.2   54.2\n",
      "10           Gender  Baseline     Baseline   93.9   93.9\n",
      "11           Gender  Baseline  Improvement   94.5   94.5\n"
     ]
    },
    {
     "name": "stderr",
     "output_type": "stream",
     "text": [
      "/Users/dpeskov/anaconda3/envs/asr/lib/python3.6/site-packages/plotnine/ggplot.py:729: PlotnineWarning: Saving 2.5 x 1 in image.\n",
      "  from_inches(height, units), units), PlotnineWarning)\n",
      "/Users/dpeskov/anaconda3/envs/asr/lib/python3.6/site-packages/plotnine/ggplot.py:730: PlotnineWarning: Filename: F3.pdf\n",
      "  warn('Filename: {}'.format(filename), PlotnineWarning)\n"
     ]
    }
   ],
   "source": [
    "makeF3('F3', ['Baseline'], 'center', -1)"
   ]
  },
  {
   "cell_type": "code",
   "execution_count": null,
   "metadata": {},
   "outputs": [],
   "source": []
  },
  {
   "cell_type": "code",
   "execution_count": null,
   "metadata": {},
   "outputs": [],
   "source": []
  }
 ],
 "metadata": {
  "kernelspec": {
   "display_name": "Python [conda env:asr]",
   "language": "python",
   "name": "conda-env-asr-py"
  },
  "language_info": {
   "codemirror_mode": {
    "name": "ipython",
    "version": 3
   },
   "file_extension": ".py",
   "mimetype": "text/x-python",
   "name": "python",
   "nbconvert_exporter": "python",
   "pygments_lexer": "ipython3",
   "version": "3.6.4"
  }
 },
 "nbformat": 4,
 "nbformat_minor": 2
}
